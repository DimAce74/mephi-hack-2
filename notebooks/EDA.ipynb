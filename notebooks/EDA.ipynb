{
 "cells": [
  {
   "cell_type": "code",
   "execution_count": 13,
   "id": "82aa8a90",
   "metadata": {},
   "outputs": [
    {
     "name": "stdout",
     "output_type": "stream",
     "text": [
      "Requirement already satisfied: num2words in d:\\repo\\mephi-hack-2\\venv\\lib\\site-packages (0.5.14)\n",
      "Requirement already satisfied: docopt>=0.6.2 in d:\\repo\\mephi-hack-2\\venv\\lib\\site-packages (from num2words) (0.6.2)\n",
      "Note: you may need to restart the kernel to use updated packages.\n"
     ]
    }
   ],
   "source": [
    "pip install num2words"
   ]
  },
  {
   "cell_type": "code",
   "execution_count": 14,
   "id": "1da5a0b6",
   "metadata": {},
   "outputs": [
    {
     "name": "stdout",
     "output_type": "stream",
     "text": [
      "Requirement already satisfied: nltk in d:\\repo\\mephi-hack-2\\venv\\lib\\site-packages (3.9.1)Note: you may need to restart the kernel to use updated packages.\n",
      "\n",
      "Requirement already satisfied: click in d:\\repo\\mephi-hack-2\\venv\\lib\\site-packages (from nltk) (8.1.8)\n",
      "Requirement already satisfied: joblib in d:\\repo\\mephi-hack-2\\venv\\lib\\site-packages (from nltk) (1.4.2)\n",
      "Requirement already satisfied: regex>=2021.8.3 in d:\\repo\\mephi-hack-2\\venv\\lib\\site-packages (from nltk) (2024.11.6)\n",
      "Requirement already satisfied: tqdm in d:\\repo\\mephi-hack-2\\venv\\lib\\site-packages (from nltk) (4.67.1)\n",
      "Requirement already satisfied: colorama in d:\\repo\\mephi-hack-2\\venv\\lib\\site-packages (from click->nltk) (0.4.6)\n"
     ]
    }
   ],
   "source": [
    "pip install nltk"
   ]
  },
  {
   "cell_type": "code",
   "execution_count": 15,
   "id": "e629bbf6",
   "metadata": {},
   "outputs": [
    {
     "name": "stdout",
     "output_type": "stream",
     "text": [
      "Requirement already satisfied: requests in d:\\repo\\mephi-hack-2\\venv\\lib\\site-packages (2.32.3)\n",
      "Requirement already satisfied: charset-normalizer<4,>=2 in d:\\repo\\mephi-hack-2\\venv\\lib\\site-packages (from requests) (3.4.2)\n",
      "Requirement already satisfied: idna<4,>=2.5 in d:\\repo\\mephi-hack-2\\venv\\lib\\site-packages (from requests) (3.10)\n",
      "Requirement already satisfied: urllib3<3,>=1.21.1 in d:\\repo\\mephi-hack-2\\venv\\lib\\site-packages (from requests) (2.4.0)\n",
      "Requirement already satisfied: certifi>=2017.4.17 in d:\\repo\\mephi-hack-2\\venv\\lib\\site-packages (from requests) (2025.4.26)\n",
      "Note: you may need to restart the kernel to use updated packages.\n"
     ]
    }
   ],
   "source": [
    "pip install requests"
   ]
  },
  {
   "cell_type": "code",
   "execution_count": 16,
   "id": "b16d8d2d",
   "metadata": {},
   "outputs": [
    {
     "name": "stdout",
     "output_type": "stream",
     "text": [
      "Requirement already satisfied: openpyxl in d:\\repo\\mephi-hack-2\\venv\\lib\\site-packages (3.1.5)\n",
      "Requirement already satisfied: et-xmlfile in d:\\repo\\mephi-hack-2\\venv\\lib\\site-packages (from openpyxl) (2.0.0)\n",
      "Note: you may need to restart the kernel to use updated packages.\n"
     ]
    }
   ],
   "source": [
    "pip install openpyxl"
   ]
  },
  {
   "cell_type": "code",
   "execution_count": 17,
   "id": "3fde5a7d",
   "metadata": {},
   "outputs": [],
   "source": [
    "import requests\n",
    "import json\n",
    "import pandas as pd\n",
    "from numpy import random\n",
    "\n",
    "import re\n",
    "import nltk\n",
    "from nltk.corpus import stopwords\n",
    "import string\n",
    "\n",
    "from collections import Counter\n",
    "import matplotlib.pyplot as plt\n",
    "\n",
    "from num2words import num2words\n",
    "from tqdm import tqdm"
   ]
  },
  {
   "cell_type": "code",
   "execution_count": 18,
   "id": "efe81fe9",
   "metadata": {},
   "outputs": [
    {
     "data": {
      "text/html": [
       "<div>\n",
       "<style scoped>\n",
       "    .dataframe tbody tr th:only-of-type {\n",
       "        vertical-align: middle;\n",
       "    }\n",
       "\n",
       "    .dataframe tbody tr th {\n",
       "        vertical-align: top;\n",
       "    }\n",
       "\n",
       "    .dataframe thead th {\n",
       "        text-align: right;\n",
       "    }\n",
       "</style>\n",
       "<table border=\"1\" class=\"dataframe\">\n",
       "  <thead>\n",
       "    <tr style=\"text-align: right;\">\n",
       "      <th></th>\n",
       "      <th>firsttext</th>\n",
       "      <th>image2text</th>\n",
       "      <th>speech2text</th>\n",
       "      <th>text</th>\n",
       "      <th>theme</th>\n",
       "    </tr>\n",
       "  </thead>\n",
       "  <tbody>\n",
       "    <tr>\n",
       "      <th>0</th>\n",
       "      <td>Твой лучший секс спрятан здесь 🔞  Делюсь канал...</td>\n",
       "      <td>NaN</td>\n",
       "      <td>NaN</td>\n",
       "      <td>Твой лучший секс спрятан здесь 🔞  Делюсь канал...</td>\n",
       "      <td>реклама, личная жизнь</td>\n",
       "    </tr>\n",
       "    <tr>\n",
       "      <th>1</th>\n",
       "      <td>⭐️  Кнопка: ⭐️START⭐️(https://t.me/major/start...</td>\n",
       "      <td>NaN</td>\n",
       "      <td>NaN</td>\n",
       "      <td>⭐️  Кнопка: ⭐️START⭐️(https://t.me/major/start...</td>\n",
       "      <td>соцсети</td>\n",
       "    </tr>\n",
       "    <tr>\n",
       "      <th>2</th>\n",
       "      <td>А продолжение где? Правильно. В моем сообществ...</td>\n",
       "      <td>девчонки не умеют переписываться sanille они э...</td>\n",
       "      <td>NaN</td>\n",
       "      <td>А продолжение где? Правильно. В моем сообществ...</td>\n",
       "      <td>соцсети</td>\n",
       "    </tr>\n",
       "    <tr>\n",
       "      <th>3</th>\n",
       "      <td>Тем временем моя авторская телега уверенно в т...</td>\n",
       "      <td>10:42 nuil пул telegram ^ 51 142 подписчика 12...</td>\n",
       "      <td>NaN</td>\n",
       "      <td>Тем временем моя авторская телега уверенно в т...</td>\n",
       "      <td>соцсети</td>\n",
       "    </tr>\n",
       "    <tr>\n",
       "      <th>4</th>\n",
       "      <td>У меня есть двоюродная сестра, у нее есть сын ...</td>\n",
       "      <td>т с не ^ е z 8 * \\\"8 ничего не знала о стендап...</td>\n",
       "      <td>NaN</td>\n",
       "      <td>У меня есть двоюродная сестра, у нее есть сын ...</td>\n",
       "      <td>личная жизнь</td>\n",
       "    </tr>\n",
       "  </tbody>\n",
       "</table>\n",
       "</div>"
      ],
      "text/plain": [
       "                                           firsttext  \\\n",
       "0  Твой лучший секс спрятан здесь 🔞  Делюсь канал...   \n",
       "1  ⭐️  Кнопка: ⭐️START⭐️(https://t.me/major/start...   \n",
       "2  А продолжение где? Правильно. В моем сообществ...   \n",
       "3  Тем временем моя авторская телега уверенно в т...   \n",
       "4  У меня есть двоюродная сестра, у нее есть сын ...   \n",
       "\n",
       "                                          image2text speech2text  \\\n",
       "0                                                NaN         NaN   \n",
       "1                                                NaN         NaN   \n",
       "2  девчонки не умеют переписываться sanille они э...         NaN   \n",
       "3  10:42 nuil пул telegram ^ 51 142 подписчика 12...         NaN   \n",
       "4  т с не ^ е z 8 * \\\"8 ничего не знала о стендап...         NaN   \n",
       "\n",
       "                                                text                  theme  \n",
       "0  Твой лучший секс спрятан здесь 🔞  Делюсь канал...  реклама, личная жизнь  \n",
       "1  ⭐️  Кнопка: ⭐️START⭐️(https://t.me/major/start...                соцсети  \n",
       "2  А продолжение где? Правильно. В моем сообществ...                соцсети  \n",
       "3  Тем временем моя авторская телега уверенно в т...                соцсети  \n",
       "4  У меня есть двоюродная сестра, у нее есть сын ...           личная жизнь  "
      ]
     },
     "execution_count": 18,
     "metadata": {},
     "output_type": "execute_result"
    }
   ],
   "source": [
    "df = pd.read_excel('../data/raw/хакатон.xlsx')\n",
    "df.head(5)"
   ]
  },
  {
   "cell_type": "code",
   "execution_count": 19,
   "id": "6baf0fc6",
   "metadata": {},
   "outputs": [],
   "source": [
    "def word_count(df, n = 20):\n",
    "    all_text = ' '.join(df['text']).lower()         \n",
    "    words_list = all_text.split()                     # Деление на слова\n",
    "    word_counts = Counter(words_list)                 # Частота слов\n",
    "    top_20_words = word_counts.most_common(n)       # Топ-20 слов\n",
    "\n",
    "    # Извлекаем слова и их частоты отдельно для построения графика\n",
    "    words = [w for w, _ in top_20_words]\n",
    "    counts = [c for _, c in top_20_words]\n",
    "\n",
    "    return words, counts"
   ]
  },
  {
   "cell_type": "code",
   "execution_count": 20,
   "id": "b492213b",
   "metadata": {},
   "outputs": [
    {
     "data": {
      "image/png": "[encoded data removed]",
      "text/plain": [
       "<Figure size 1000x800 with 1 Axes>"
      ]
     },
     "metadata": {},
     "output_type": "display_data"
    }
   ],
   "source": [
    "words, counts = word_count(df)\n",
    "\n",
    "# Строим столбчатую диаграмму\n",
    "plt.figure(figsize=(10, 8))                      # Устанавливаем размер окна\n",
    "plt.barh(words, counts, color='skyblue')          # Горизонтальная гистограмма\n",
    "plt.xlabel('Частота')\n",
    "plt.ylabel('Слова')\n",
    "plt.title('Топ-20 наиболее распространённых слов')\n",
    "plt.show()"
   ]
  },
  {
   "cell_type": "markdown",
   "id": "76fdf1e6",
   "metadata": {},
   "source": [
    "Очищаем от стоп-слов"
   ]
  },
  {
   "cell_type": "code",
   "execution_count": 21,
   "id": "a2932ef7",
   "metadata": {},
   "outputs": [
    {
     "name": "stderr",
     "output_type": "stream",
     "text": [
      "[nltk_data] Downloading package stopwords to\n",
      "[nltk_data]     C:\\Users\\dimac\\AppData\\Roaming\\nltk_data...\n",
      "[nltk_data]   Package stopwords is already up-to-date!\n"
     ]
    }
   ],
   "source": [
    "# Загрузка списка стоп-слов русского языка\n",
    "nltk.download('stopwords')\n",
    "stop_words = set(stopwords.words('russian'))"
   ]
  },
  {
   "cell_type": "code",
   "execution_count": 22,
   "id": "2d2c3e2b",
   "metadata": {},
   "outputs": [],
   "source": [
    "# Основная функция очистки текста\n",
    "def clean_text(text):\n",
    "    # 1. Удаляем ссылки\n",
    "    text = re.sub(r'https?:\\/\\/[^ ]+', '', text)\n",
    "    \n",
    "    # 2. Удаляем эмодзи\n",
    "    emoji_pattern = re.compile(\"[\"\n",
    "                               u\"\\U0001F600-\\U0001F64F\"  # emoticons\n",
    "                               u\"\\U0001F300-\\U0001F5FF\"  # symbols & pictographs\n",
    "                               u\"\\U0001F680-\\U0001F6FF\"  # transport & map symbols\n",
    "                               u\"\\U0001F1E0-\\U0001F1FF\"  # flags (iOS)\n",
    "                               u\"\\U00002702-\\U000027B0\"\n",
    "                               u\"\\U000024C2-\\U0001F251\"\n",
    "                               \"]+\", flags=re.UNICODE)\n",
    "    text = emoji_pattern.sub('', text)\n",
    "    \n",
    "    # 3. Удаляем знаки препинания\n",
    "    text = text.translate(str.maketrans('', '', string.punctuation + '‑‐–—―−－'))  # Добавили разные типы дефиса\n",
    "    \n",
    "    # 4. Приводим текст к нижнему регистру\n",
    "    text = text.lower()\n",
    "    \n",
    "    # 5. Токенизируем текст\n",
    "    tokens = text.split()\n",
    "    \n",
    "    # 6. Фильтруем стоп-слова и слова длиной меньше двух символов\n",
    "    filtered_tokens = [\n",
    "        word for word in tokens \n",
    "        if word not in stop_words and len(word) > 1 and not word.isdigit()    # Оставляем только слова больше одной буквы\n",
    "    ]\n",
    "    \n",
    "    # 7. Собираем очищенную строку\n",
    "    cleaned_text = ' '.join(filtered_tokens)\n",
    "    \n",
    "    # 8. Удаляем повторяющиеся пробелы\n",
    "    cleaned_text = re.sub('\\s+', ' ', cleaned_text).strip()\n",
    "    \n",
    "    # 9. Если строка стала пустой или состоит только из цифр, возвращаем None\n",
    "    if len(cleaned_text.strip()) <= 1 or cleaned_text.isdigit():\n",
    "        return None\n",
    "    \n",
    "    return cleaned_text"
   ]
  },
  {
   "cell_type": "code",
   "execution_count": 23,
   "id": "35b2a313",
   "metadata": {},
   "outputs": [],
   "source": [
    "df['text'] = df['text'].apply(clean_text)\n",
    "df = df.dropna(subset=['text'])"
   ]
  },
  {
   "cell_type": "code",
   "execution_count": 24,
   "id": "d27a9085",
   "metadata": {},
   "outputs": [
    {
     "data": {
      "text/html": [
       "<div>\n",
       "<style scoped>\n",
       "    .dataframe tbody tr th:only-of-type {\n",
       "        vertical-align: middle;\n",
       "    }\n",
       "\n",
       "    .dataframe tbody tr th {\n",
       "        vertical-align: top;\n",
       "    }\n",
       "\n",
       "    .dataframe thead th {\n",
       "        text-align: right;\n",
       "    }\n",
       "</style>\n",
       "<table border=\"1\" class=\"dataframe\">\n",
       "  <thead>\n",
       "    <tr style=\"text-align: right;\">\n",
       "      <th></th>\n",
       "      <th>firsttext</th>\n",
       "      <th>image2text</th>\n",
       "      <th>speech2text</th>\n",
       "      <th>text</th>\n",
       "      <th>theme</th>\n",
       "    </tr>\n",
       "  </thead>\n",
       "  <tbody>\n",
       "    <tr>\n",
       "      <th>0</th>\n",
       "      <td>Твой лучший секс спрятан здесь 🔞  Делюсь канал...</td>\n",
       "      <td>NaN</td>\n",
       "      <td>NaN</td>\n",
       "      <td>твой лучший секс спрятан делюсь каналом диплом...</td>\n",
       "      <td>реклама, личная жизнь</td>\n",
       "    </tr>\n",
       "    <tr>\n",
       "      <th>1</th>\n",
       "      <td>⭐️  Кнопка: ⭐️START⭐️(https://t.me/major/start...</td>\n",
       "      <td>NaN</td>\n",
       "      <td>NaN</td>\n",
       "      <td>кнопка start</td>\n",
       "      <td>соцсети</td>\n",
       "    </tr>\n",
       "    <tr>\n",
       "      <th>2</th>\n",
       "      <td>А продолжение где? Правильно. В моем сообществ...</td>\n",
       "      <td>девчонки не умеют переписываться sanille они э...</td>\n",
       "      <td>NaN</td>\n",
       "      <td>продолжение правильно моем сообществе вк ссылк...</td>\n",
       "      <td>соцсети</td>\n",
       "    </tr>\n",
       "    <tr>\n",
       "      <th>3</th>\n",
       "      <td>Тем временем моя авторская телега уверенно в т...</td>\n",
       "      <td>10:42 nuil пул telegram ^ 51 142 подписчика 12...</td>\n",
       "      <td>NaN</td>\n",
       "      <td>временем авторская телега уверенно тройке силь...</td>\n",
       "      <td>соцсети</td>\n",
       "    </tr>\n",
       "    <tr>\n",
       "      <th>4</th>\n",
       "      <td>У меня есть двоюродная сестра, у нее есть сын ...</td>\n",
       "      <td>т с не ^ е z 8 * \\\"8 ничего не знала о стендап...</td>\n",
       "      <td>NaN</td>\n",
       "      <td>двоюродная сестра сын антон двоюродный племянн...</td>\n",
       "      <td>личная жизнь</td>\n",
       "    </tr>\n",
       "  </tbody>\n",
       "</table>\n",
       "</div>"
      ],
      "text/plain": [
       "                                           firsttext  \\\n",
       "0  Твой лучший секс спрятан здесь 🔞  Делюсь канал...   \n",
       "1  ⭐️  Кнопка: ⭐️START⭐️(https://t.me/major/start...   \n",
       "2  А продолжение где? Правильно. В моем сообществ...   \n",
       "3  Тем временем моя авторская телега уверенно в т...   \n",
       "4  У меня есть двоюродная сестра, у нее есть сын ...   \n",
       "\n",
       "                                          image2text speech2text  \\\n",
       "0                                                NaN         NaN   \n",
       "1                                                NaN         NaN   \n",
       "2  девчонки не умеют переписываться sanille они э...         NaN   \n",
       "3  10:42 nuil пул telegram ^ 51 142 подписчика 12...         NaN   \n",
       "4  т с не ^ е z 8 * \\\"8 ничего не знала о стендап...         NaN   \n",
       "\n",
       "                                                text                  theme  \n",
       "0  твой лучший секс спрятан делюсь каналом диплом...  реклама, личная жизнь  \n",
       "1                                       кнопка start                соцсети  \n",
       "2  продолжение правильно моем сообществе вк ссылк...                соцсети  \n",
       "3  временем авторская телега уверенно тройке силь...                соцсети  \n",
       "4  двоюродная сестра сын антон двоюродный племянн...           личная жизнь  "
      ]
     },
     "execution_count": 24,
     "metadata": {},
     "output_type": "execute_result"
    }
   ],
   "source": [
    "df.head(5)"
   ]
  },
  {
   "cell_type": "code",
   "execution_count": 25,
   "id": "8fa7b57d",
   "metadata": {},
   "outputs": [],
   "source": [
    "df = df[['text', 'theme']]"
   ]
  },
  {
   "cell_type": "code",
   "execution_count": 26,
   "id": "d5e8f806",
   "metadata": {},
   "outputs": [
    {
     "data": {
      "image/png": "[encoded data removed]",
      "text/plain": [
       "<Figure size 1000x800 with 1 Axes>"
      ]
     },
     "metadata": {},
     "output_type": "display_data"
    }
   ],
   "source": [
    "words, counts = word_count(df)\n",
    "\n",
    "# Строим столбчатую диаграмму\n",
    "plt.figure(figsize=(10, 8))                      # Устанавливаем размер окна\n",
    "plt.barh(words, counts, color='skyblue')          # Горизонтальная гистограмма\n",
    "plt.xlabel('Частота')\n",
    "plt.ylabel('Слова')\n",
    "plt.title('Топ-20 наиболее распространённых слов')\n",
    "plt.show()"
   ]
  },
  {
   "cell_type": "markdown",
   "id": "dfeb0b3b",
   "metadata": {},
   "source": [
    "Убираем слово \"это\""
   ]
  },
  {
   "cell_type": "code",
   "execution_count": 27,
   "id": "9a2e1305",
   "metadata": {},
   "outputs": [],
   "source": [
    "df['text'] = df['text'].str.replace('это', '', regex=False).str.strip()"
   ]
  },
  {
   "cell_type": "code",
   "execution_count": 28,
   "id": "1816280c",
   "metadata": {},
   "outputs": [
    {
     "data": {
      "image/png": "[encoded data removed]",
      "text/plain": [
       "<Figure size 1000x800 with 1 Axes>"
      ]
     },
     "metadata": {},
     "output_type": "display_data"
    }
   ],
   "source": [
    "words, counts = word_count(df)\n",
    "\n",
    "# Строим столбчатую диаграмму\n",
    "plt.figure(figsize=(10, 8))                      # Устанавливаем размер окна\n",
    "plt.barh(words, counts, color='skyblue')          # Горизонтальная гистограмма\n",
    "plt.xlabel('Частота')\n",
    "plt.ylabel('Слова')\n",
    "plt.title('Топ-20 наиболее распространённых слов')\n",
    "plt.show()"
   ]
  },
  {
   "cell_type": "markdown",
   "id": "8d67cb74",
   "metadata": {},
   "source": [
    "Заменим числа (решил вообще убрать числа)"
   ]
  },
  {
   "cell_type": "code",
   "execution_count": 29,
   "id": "306d71e4",
   "metadata": {},
   "outputs": [],
   "source": [
    "# def replace_numbers_with_words(text):\n",
    "#     words = []\n",
    "#     for token in text.split():  # разбиваем предложение на токены\n",
    "#         try:\n",
    "#             number = int(token)  # пытаемся превратить токен в целое число\n",
    "#             words.append(num2words(number, lang='ru'))  # если получилось, заменяем числом текстом\n",
    "#         except ValueError:\n",
    "#             words.append(token)  # иначе оставляем оригинальный токен\n",
    "#     return ' '.join(words)  # собираем предложение обратно\n",
    "\n",
    "# # Применяем замену чисел на слова ко всей колонке 'text'\n",
    "# df['text'] = df['text'].apply(replace_numbers_with_words)"
   ]
  },
  {
   "cell_type": "code",
   "execution_count": 30,
   "id": "4405467e",
   "metadata": {},
   "outputs": [],
   "source": [
    "# words, counts = word_count(df)\n",
    "\n",
    "# # Строим столбчатую диаграмму\n",
    "# plt.figure(figsize=(10, 8))                      # Устанавливаем размер окна\n",
    "# plt.barh(words, counts, color='skyblue')          # Горизонтальная гистограмма\n",
    "# plt.xlabel('Частота')\n",
    "# plt.ylabel('Слова')\n",
    "# plt.title('Топ-20 наиболее распространённых слов')\n",
    "# plt.show()"
   ]
  },
  {
   "cell_type": "code",
   "execution_count": null,
   "id": "ac664637",
   "metadata": {},
   "outputs": [
    {
     "name": "stderr",
     "output_type": "stream",
     "text": [
      "100%|██████████| 5673/5673 [3:05:39<00:00,  1.96s/it]  \n"
     ]
    }
   ],
   "source": [
    "API_URL = 'https://dictionary.yandex.net/api/v1/dicservice.json/lookup'\n",
    "API_KEY = ''\n",
    "LANGUAGE_PAIR = 'ru-ru'\n",
    "\n",
    "def fetch_synonyms(word):\n",
    "    params = {\n",
    "        'key': API_KEY,\n",
    "        'lang': LANGUAGE_PAIR,\n",
    "        'text': word\n",
    "    }\n",
    "    response = requests.get(API_URL, params=params)\n",
    "    data = response.json()\n",
    "    try:\n",
    "        synonyms = [entry['tr'][0]['text'] for entry in data['def']]\n",
    "        return synonyms\n",
    "    except (KeyError, IndexError):\n",
    "        return None\n",
    "\n",
    "def replace_random_words_with_synonyms(text, probability = 1):\n",
    "    words = text.split(' ')\n",
    "    replaced_words = []\n",
    "    for word in words:\n",
    "        if random.rand() < probability:\n",
    "            synonyms = fetch_synonyms(word)\n",
    "            if synonyms is not None and len(synonyms) > 0:\n",
    "                chosen_synonym = random.choice(synonyms)\n",
    "                # print('-----')\n",
    "                # print(word)\n",
    "                # print(chosen_synonym)\n",
    "                replaced_words.append(chosen_synonym)\n",
    "            else:\n",
    "                replaced_words.append(word)\n",
    "        else:\n",
    "            replaced_words.append(word)\n",
    "    return ' '.join(replaced_words)\n",
    "\n",
    "# Добавление новых записей\n",
    "new_data = []\n",
    "for idx, row in tqdm(df.iterrows(), total=len(df)):\n",
    "    original_text = row['text']\n",
    "    new_text = replace_random_words_with_synonyms(original_text, 0.2)\n",
    "    new_data.append({'text': new_text, 'theme': row['theme']})\n",
    "\n",
    "new_df = pd.DataFrame(new_data)"
   ]
  },
  {
   "cell_type": "code",
   "execution_count": 32,
   "id": "044fb74e",
   "metadata": {},
   "outputs": [
    {
     "data": {
      "text/html": [
       "<div>\n",
       "<style scoped>\n",
       "    .dataframe tbody tr th:only-of-type {\n",
       "        vertical-align: middle;\n",
       "    }\n",
       "\n",
       "    .dataframe tbody tr th {\n",
       "        vertical-align: top;\n",
       "    }\n",
       "\n",
       "    .dataframe thead th {\n",
       "        text-align: right;\n",
       "    }\n",
       "</style>\n",
       "<table border=\"1\" class=\"dataframe\">\n",
       "  <thead>\n",
       "    <tr style=\"text-align: right;\">\n",
       "      <th></th>\n",
       "      <th>text</th>\n",
       "      <th>theme</th>\n",
       "    </tr>\n",
       "  </thead>\n",
       "  <tbody>\n",
       "    <tr>\n",
       "      <th>0</th>\n",
       "      <td>твой лучший секс спрятан делюсь каналом диплом...</td>\n",
       "      <td>реклама, личная жизнь</td>\n",
       "    </tr>\n",
       "    <tr>\n",
       "      <th>1</th>\n",
       "      <td>клавиша start</td>\n",
       "      <td>соцсети</td>\n",
       "    </tr>\n",
       "    <tr>\n",
       "      <th>2</th>\n",
       "      <td>расширение правильно моем сообществе вк ссылка...</td>\n",
       "      <td>соцсети</td>\n",
       "    </tr>\n",
       "    <tr>\n",
       "      <th>3</th>\n",
       "      <td>временем авторская телега уверенно тройке силь...</td>\n",
       "      <td>соцсети</td>\n",
       "    </tr>\n",
       "    <tr>\n",
       "      <th>4</th>\n",
       "      <td>двоюродная сестра сын антон двоюродный племянн...</td>\n",
       "      <td>личная жизнь</td>\n",
       "    </tr>\n",
       "  </tbody>\n",
       "</table>\n",
       "</div>"
      ],
      "text/plain": [
       "                                                text                  theme\n",
       "0  твой лучший секс спрятан делюсь каналом диплом...  реклама, личная жизнь\n",
       "1                                      клавиша start                соцсети\n",
       "2  расширение правильно моем сообществе вк ссылка...                соцсети\n",
       "3  временем авторская телега уверенно тройке силь...                соцсети\n",
       "4  двоюродная сестра сын антон двоюродный племянн...           личная жизнь"
      ]
     },
     "execution_count": 32,
     "metadata": {},
     "output_type": "execute_result"
    }
   ],
   "source": [
    "new_df.head(5)"
   ]
  },
  {
   "cell_type": "code",
   "execution_count": 33,
   "id": "7fcc1db8",
   "metadata": {},
   "outputs": [],
   "source": [
    "result_df = pd.concat([df, new_df], ignore_index=True)\n",
    "result_df = result_df.drop_duplicates()\n",
    "result_df.to_excel('../data/processed/хакатон_2.xlsx')"
   ]
  },
  {
   "cell_type": "code",
   "execution_count": 34,
   "id": "fe7b273b",
   "metadata": {},
   "outputs": [
    {
     "data": {
      "text/plain": [
       "(5785, 2)"
      ]
     },
     "execution_count": 34,
     "metadata": {},
     "output_type": "execute_result"
    }
   ],
   "source": [
    "result_df.shape"
   ]
  },
  {
   "cell_type": "code",
   "execution_count": 43,
   "id": "a90dcd2d",
   "metadata": {},
   "outputs": [
    {
     "name": "stdout",
     "output_type": "stream",
     "text": [
      "твой лучший секс спрятан делюсь каналом дипломированного сексолога крис взломала код классного секса мастерски раскрепощает знает миллион горячих техник лучшие девайсы взрослых самые полезные посты отрезвляющий пост «я сама» прокачай наездницу ролевая игра «vip кинотеатр» техника оральных ласк занимается сeксом неудобная женщина кстати крис провела трехдневный безоплатный онлайн интенсив«от бревна богини» совместно врачом владельцем сексшопа скорее смотри записи пока удалила жарче аду\n",
      "кнопка start\n",
      "продолжение правильно моем сообществе вк ссылка шапке профиля девчонки умеют переписываться sanille  очень любят категорически умеют strilp\n",
      "временем авторская телега уверенно тройке сильнейших компания мощная ухххх nuil пул telegram подписчика авторские маргарита симоньян соловьёв реальный губер павел островский захар прилепин поддубный мария захарова ирина волк неофициальный безсонов анастасия кашеварова андрей медведев небожена дмитрий медведев kotsnews валентина матвиенко алёна бердова лера кудрявцева abbas djuma доктор сосновский zergulio media малькевич александр хинштейн юрий баранчик президент гордон ляйсан утяшева екатерина мизулина последние люди городе вячеслав володин парфентьев клуб вкл звук\n",
      "двоюродная сестра сын антон двоюродный племянник получается снимает свой подкаст пришла поддержать получилось честное откровенное интервью смотрите знала стендапе» маргарита родина\n"
     ]
    },
    {
     "data": {
      "text/plain": [
       "0    None\n",
       "1    None\n",
       "2    None\n",
       "3    None\n",
       "4    None\n",
       "Name: text, dtype: object"
      ]
     },
     "execution_count": 43,
     "metadata": {},
     "output_type": "execute_result"
    }
   ],
   "source": [
    "df['text'][:5].apply(lambda x: print(x))"
   ]
  },
  {
   "cell_type": "code",
   "execution_count": 44,
   "id": "e373d871",
   "metadata": {},
   "outputs": [
    {
     "name": "stdout",
     "output_type": "stream",
     "text": [
      "твой лучший секс спрятан делюсь каналом дипломированного сексолога крис взломала код классного секса умело раскрепощает знает миллион горячих механик лучшие девайсы взрослых самые полезные посты отрезвляющий пост «я сама» прокачай наездницу ролевая игра «vip кинотеатр» техника оральных ласк занимается сeксом неудобная женщина кстати крис провела трехдневный безоплатный онлайн интенсив«от бревна богини» совместно врачом владельцем сексшопа скорее смотри дневник пока удалила жарче аду\n",
      "клавиша start\n",
      "расширение правильно моем сообществе вк ссылка шапке профиля девчонки умеют переписываться sanille  очень любят наотрез умеют strilp\n",
      "временем авторская телега уверенно тройке сильнейших компания мощная ухххх nuil пул telegram подписчика авторские маргарита симоньян соловьёв настоящий губер савл островский захар прилепин поддубный мария захарова ирина волк неофициальный безсонов анастасия кашеварова андрей медведев небожена димитрий медведев kotsnews валентин матвиенко алёна бердова лера кудрявцева abbas djuma доктор сосновский zergulio media малькевич александр хинштейн юрий баранчик президент гордон ляйсан утяшева екатерина мизулина последние люди городе вячеслав володин парфентьев клуб вкл звук\n",
      "двоюродная сестра сын антон двоюродный племянник получается снимает свой подкаст пришла поддержать получилось честное откровенное беседа смотрите знала стендапе» маргарита родина\n"
     ]
    },
    {
     "data": {
      "text/plain": [
       "0    None\n",
       "1    None\n",
       "2    None\n",
       "3    None\n",
       "4    None\n",
       "Name: text, dtype: object"
      ]
     },
     "execution_count": 44,
     "metadata": {},
     "output_type": "execute_result"
    }
   ],
   "source": [
    "new_df['text'][:5].apply(lambda x: print(x))"
   ]
  },
  {
   "cell_type": "code",
   "execution_count": 45,
   "id": "290bd462",
   "metadata": {},
   "outputs": [
    {
     "data": {
      "text/plain": [
       "(11346, 2)"
      ]
     },
     "execution_count": 45,
     "metadata": {},
     "output_type": "execute_result"
    }
   ],
   "source": [
    "res_df = pd.concat([df, new_df], ignore_index=True)\n",
    "res_df.shape"
   ]
  },
  {
   "cell_type": "code",
   "execution_count": 48,
   "id": "40a7f23f",
   "metadata": {},
   "outputs": [
    {
     "data": {
      "text/html": [
       "<div>\n",
       "<style scoped>\n",
       "    .dataframe tbody tr th:only-of-type {\n",
       "        vertical-align: middle;\n",
       "    }\n",
       "\n",
       "    .dataframe tbody tr th {\n",
       "        vertical-align: top;\n",
       "    }\n",
       "\n",
       "    .dataframe thead th {\n",
       "        text-align: right;\n",
       "    }\n",
       "</style>\n",
       "<table border=\"1\" class=\"dataframe\">\n",
       "  <thead>\n",
       "    <tr style=\"text-align: right;\">\n",
       "      <th></th>\n",
       "      <th>index</th>\n",
       "      <th>text</th>\n",
       "      <th>theme</th>\n",
       "    </tr>\n",
       "  </thead>\n",
       "  <tbody>\n",
       "    <tr>\n",
       "      <th>0</th>\n",
       "      <td>0</td>\n",
       "      <td>твой лучший секс спрятан делюсь каналом диплом...</td>\n",
       "      <td>реклама, личная жизнь</td>\n",
       "    </tr>\n",
       "    <tr>\n",
       "      <th>1</th>\n",
       "      <td>1</td>\n",
       "      <td>кнопка start</td>\n",
       "      <td>соцсети</td>\n",
       "    </tr>\n",
       "    <tr>\n",
       "      <th>2</th>\n",
       "      <td>2</td>\n",
       "      <td>продолжение правильно моем сообществе вк ссылк...</td>\n",
       "      <td>соцсети</td>\n",
       "    </tr>\n",
       "    <tr>\n",
       "      <th>3</th>\n",
       "      <td>3</td>\n",
       "      <td>временем авторская телега уверенно тройке силь...</td>\n",
       "      <td>соцсети</td>\n",
       "    </tr>\n",
       "    <tr>\n",
       "      <th>4</th>\n",
       "      <td>4</td>\n",
       "      <td>двоюродная сестра сын антон двоюродный племянн...</td>\n",
       "      <td>личная жизнь</td>\n",
       "    </tr>\n",
       "    <tr>\n",
       "      <th>...</th>\n",
       "      <td>...</td>\n",
       "      <td>...</td>\n",
       "      <td>...</td>\n",
       "    </tr>\n",
       "    <tr>\n",
       "      <th>11341</th>\n",
       "      <td>11341</td>\n",
       "      <td>отказали ноги стандартная ситуация щербаков ал...</td>\n",
       "      <td>юмор</td>\n",
       "    </tr>\n",
       "    <tr>\n",
       "      <th>11342</th>\n",
       "      <td>11342</td>\n",
       "      <td>осторожно пропала собака алексейщербаков щерба...</td>\n",
       "      <td>NaN</td>\n",
       "    </tr>\n",
       "    <tr>\n",
       "      <th>11343</th>\n",
       "      <td>11343</td>\n",
       "      <td>ваших огонёчков видео телефонах огонёчки зажиг...</td>\n",
       "      <td>NaN</td>\n",
       "    </tr>\n",
       "    <tr>\n",
       "      <th>11344</th>\n",
       "      <td>11344</td>\n",
       "      <td>зиминарулит актрисатеатраикино викториятарасов...</td>\n",
       "      <td>NaN</td>\n",
       "    </tr>\n",
       "    <tr>\n",
       "      <th>11345</th>\n",
       "      <td>11345</td>\n",
       "      <td>девочки katiashmatia правильно поступила🧸 юмор...</td>\n",
       "      <td>NaN</td>\n",
       "    </tr>\n",
       "  </tbody>\n",
       "</table>\n",
       "<p>11346 rows × 3 columns</p>\n",
       "</div>"
      ],
      "text/plain": [
       "       index                                               text  \\\n",
       "0          0  твой лучший секс спрятан делюсь каналом диплом...   \n",
       "1          1                                       кнопка start   \n",
       "2          2  продолжение правильно моем сообществе вк ссылк...   \n",
       "3          3  временем авторская телега уверенно тройке силь...   \n",
       "4          4  двоюродная сестра сын антон двоюродный племянн...   \n",
       "...      ...                                                ...   \n",
       "11341  11341  отказали ноги стандартная ситуация щербаков ал...   \n",
       "11342  11342  осторожно пропала собака алексейщербаков щерба...   \n",
       "11343  11343  ваших огонёчков видео телефонах огонёчки зажиг...   \n",
       "11344  11344  зиминарулит актрисатеатраикино викториятарасов...   \n",
       "11345  11345  девочки katiashmatia правильно поступила🧸 юмор...   \n",
       "\n",
       "                       theme  \n",
       "0      реклама, личная жизнь  \n",
       "1                    соцсети  \n",
       "2                    соцсети  \n",
       "3                    соцсети  \n",
       "4               личная жизнь  \n",
       "...                      ...  \n",
       "11341                   юмор  \n",
       "11342                    NaN  \n",
       "11343                    NaN  \n",
       "11344                    NaN  \n",
       "11345                    NaN  \n",
       "\n",
       "[11346 rows x 3 columns]"
      ]
     },
     "execution_count": 48,
     "metadata": {},
     "output_type": "execute_result"
    }
   ],
   "source": [
    "res_df.reset_index()"
   ]
  },
  {
   "cell_type": "code",
   "execution_count": 51,
   "id": "db85fdb3",
   "metadata": {},
   "outputs": [
    {
     "data": {
      "text/html": [
       "<div>\n",
       "<style scoped>\n",
       "    .dataframe tbody tr th:only-of-type {\n",
       "        vertical-align: middle;\n",
       "    }\n",
       "\n",
       "    .dataframe tbody tr th {\n",
       "        vertical-align: top;\n",
       "    }\n",
       "\n",
       "    .dataframe thead th {\n",
       "        text-align: right;\n",
       "    }\n",
       "</style>\n",
       "<table border=\"1\" class=\"dataframe\">\n",
       "  <thead>\n",
       "    <tr style=\"text-align: right;\">\n",
       "      <th></th>\n",
       "      <th>text</th>\n",
       "      <th>theme</th>\n",
       "    </tr>\n",
       "  </thead>\n",
       "  <tbody>\n",
       "    <tr>\n",
       "      <th>0</th>\n",
       "      <td>твой лучший секс спрятан делюсь каналом диплом...</td>\n",
       "      <td>реклама, личная жизнь</td>\n",
       "    </tr>\n",
       "    <tr>\n",
       "      <th>1</th>\n",
       "      <td>кнопка start</td>\n",
       "      <td>соцсети</td>\n",
       "    </tr>\n",
       "    <tr>\n",
       "      <th>2</th>\n",
       "      <td>продолжение правильно моем сообществе вк ссылк...</td>\n",
       "      <td>соцсети</td>\n",
       "    </tr>\n",
       "    <tr>\n",
       "      <th>3</th>\n",
       "      <td>временем авторская телега уверенно тройке силь...</td>\n",
       "      <td>соцсети</td>\n",
       "    </tr>\n",
       "    <tr>\n",
       "      <th>4</th>\n",
       "      <td>двоюродная сестра сын антон двоюродный племянн...</td>\n",
       "      <td>личная жизнь</td>\n",
       "    </tr>\n",
       "  </tbody>\n",
       "</table>\n",
       "</div>"
      ],
      "text/plain": [
       "                                                text                  theme\n",
       "0  твой лучший секс спрятан делюсь каналом диплом...  реклама, личная жизнь\n",
       "1                                       кнопка start                соцсети\n",
       "2  продолжение правильно моем сообществе вк ссылк...                соцсети\n",
       "3  временем авторская телега уверенно тройке силь...                соцсети\n",
       "4  двоюродная сестра сын антон двоюродный племянн...           личная жизнь"
      ]
     },
     "execution_count": 51,
     "metadata": {},
     "output_type": "execute_result"
    }
   ],
   "source": [
    "res_df.head()"
   ]
  },
  {
   "cell_type": "code",
   "execution_count": 53,
   "id": "8c1ce892",
   "metadata": {},
   "outputs": [
    {
     "data": {
      "text/plain": [
       "class\n",
       "спорт           3330\n",
       "nan             2196\n",
       "юмор            2132\n",
       "реклама         2024\n",
       "соцсети         1330\n",
       "личная жизнь     982\n",
       "политика         756\n",
       "психология         2\n",
       "Name: count, dtype: int64"
      ]
     },
     "execution_count": 53,
     "metadata": {},
     "output_type": "execute_result"
    }
   ],
   "source": [
    "res_df['class'] = res_df['theme'].apply(lambda s: [item.strip() for item in f'{s}'.split(\",\")])\n",
    "res_df['class'].explode().value_counts()"
   ]
  },
  {
   "cell_type": "code",
   "execution_count": 56,
   "id": "552b3889",
   "metadata": {},
   "outputs": [
    {
     "data": {
      "text/plain": [
       "class\n",
       "спорт           3440\n",
       "юмор            2182\n",
       "реклама         2098\n",
       "nan             1831\n",
       "соцсети         1430\n",
       "личная жизнь    1064\n",
       "политика         778\n",
       "Name: count, dtype: int64"
      ]
     },
     "execution_count": 56,
     "metadata": {},
     "output_type": "execute_result"
    }
   ],
   "source": [
    "def categorize_row(row):\n",
    "    \n",
    "    categories = row['class']\n",
    "\n",
    "    if 'nan' in categories and len(categories) > 1:\n",
    "        categories = list(filter(lambda x: x != 'nan', categories))\n",
    "\n",
    "    if 'психология' in categories:\n",
    "        categories = list(filter(lambda x: x != 'психология', categories))\n",
    "\n",
    "    if 'nan' in categories or len(categories) == 0:\n",
    "        \n",
    "        text = row['text'].lower()  # Приводим текст к нижнему регистру\n",
    "        \n",
    "        categories = []\n",
    "        \n",
    "        if any(word in text for word in ['спорт', 'футбол', 'хоккей']):\n",
    "            categories.append('спорт')\n",
    "        if any(word in text for word in ['шутк', 'юмор', 'смешн', 'стендап']):\n",
    "            categories.append('юмор')\n",
    "        if any(word in text for word in ['реклама', 'продукт', 'купить', 'подписаться', 'подписывайтесь']):\n",
    "            categories.append('реклама')\n",
    "        if any(word in text for word in ['соцсет', 'telegram', 'vk', 'youtube', 'instagram', 'youtu.be', 't.me']):\n",
    "            categories.append('соцсети')\n",
    "        if any(word in text for word in ['политик', 'выборы', 'президент', 'политич', 'депутат']):\n",
    "            categories.append('политика')\n",
    "        if any(word in text for word in ['личная жизнь', 'отношения', 'дружба', 'любов', 'любов']):\n",
    "            categories.append('личная жизнь')\n",
    "        \n",
    "        if not categories:\n",
    "            categories.append('nan')\n",
    "        \n",
    "        return categories\n",
    "    else:\n",
    "        return categories\n",
    "\n",
    "# Применяем функцию ко всем строкам\n",
    "res_df['class'] = res_df.apply(categorize_row, axis=1)\n",
    "#target_value = 'nan'\n",
    "#filtered_df = filtered_df[df['темы'].apply(lambda x: target_value in x)]\n",
    "#display(filtered_df.head(10))\n",
    "\n",
    "res_df['class'].explode().value_counts()"
   ]
  },
  {
   "cell_type": "code",
   "execution_count": 57,
   "id": "bc35fb90",
   "metadata": {},
   "outputs": [
    {
     "data": {
      "text/html": [
       "<div>\n",
       "<style scoped>\n",
       "    .dataframe tbody tr th:only-of-type {\n",
       "        vertical-align: middle;\n",
       "    }\n",
       "\n",
       "    .dataframe tbody tr th {\n",
       "        vertical-align: top;\n",
       "    }\n",
       "\n",
       "    .dataframe thead th {\n",
       "        text-align: right;\n",
       "    }\n",
       "</style>\n",
       "<table border=\"1\" class=\"dataframe\">\n",
       "  <thead>\n",
       "    <tr style=\"text-align: right;\">\n",
       "      <th></th>\n",
       "      <th>text</th>\n",
       "      <th>theme</th>\n",
       "      <th>class</th>\n",
       "    </tr>\n",
       "  </thead>\n",
       "  <tbody>\n",
       "    <tr>\n",
       "      <th>0</th>\n",
       "      <td>твой лучший секс спрятан делюсь каналом диплом...</td>\n",
       "      <td>реклама, личная жизнь</td>\n",
       "      <td>[реклама, личная жизнь]</td>\n",
       "    </tr>\n",
       "    <tr>\n",
       "      <th>1</th>\n",
       "      <td>кнопка start</td>\n",
       "      <td>соцсети</td>\n",
       "      <td>[соцсети]</td>\n",
       "    </tr>\n",
       "    <tr>\n",
       "      <th>2</th>\n",
       "      <td>продолжение правильно моем сообществе вк ссылк...</td>\n",
       "      <td>соцсети</td>\n",
       "      <td>[соцсети]</td>\n",
       "    </tr>\n",
       "    <tr>\n",
       "      <th>3</th>\n",
       "      <td>временем авторская телега уверенно тройке силь...</td>\n",
       "      <td>соцсети</td>\n",
       "      <td>[соцсети]</td>\n",
       "    </tr>\n",
       "    <tr>\n",
       "      <th>4</th>\n",
       "      <td>двоюродная сестра сын антон двоюродный племянн...</td>\n",
       "      <td>личная жизнь</td>\n",
       "      <td>[личная жизнь]</td>\n",
       "    </tr>\n",
       "    <tr>\n",
       "      <th>5</th>\n",
       "      <td>временем авторская телега уверенно тройке силь...</td>\n",
       "      <td>соцсети</td>\n",
       "      <td>[соцсети]</td>\n",
       "    </tr>\n",
       "    <tr>\n",
       "      <th>6</th>\n",
       "      <td>мои ученики ко возвращаются мои волшебные пред...</td>\n",
       "      <td>реклама</td>\n",
       "      <td>[реклама]</td>\n",
       "    </tr>\n",
       "    <tr>\n",
       "      <th>7</th>\n",
       "      <td>ютюб канале olympics дни идут прямые трансляци...</td>\n",
       "      <td>спорт, соцсети</td>\n",
       "      <td>[спорт, соцсети]</td>\n",
       "    </tr>\n",
       "    <tr>\n",
       "      <th>8</th>\n",
       "      <td>смотреть раздевалка №12 сергей орлов александр...</td>\n",
       "      <td>спорт</td>\n",
       "      <td>[спорт]</td>\n",
       "    </tr>\n",
       "    <tr>\n",
       "      <th>9</th>\n",
       "      <td>сегодня день рождения матвея кисляка выпуск мо...</td>\n",
       "      <td>спорт</td>\n",
       "      <td>[спорт]</td>\n",
       "    </tr>\n",
       "  </tbody>\n",
       "</table>\n",
       "</div>"
      ],
      "text/plain": [
       "                                                text                  theme  \\\n",
       "0  твой лучший секс спрятан делюсь каналом диплом...  реклама, личная жизнь   \n",
       "1                                       кнопка start                соцсети   \n",
       "2  продолжение правильно моем сообществе вк ссылк...                соцсети   \n",
       "3  временем авторская телега уверенно тройке силь...                соцсети   \n",
       "4  двоюродная сестра сын антон двоюродный племянн...           личная жизнь   \n",
       "5  временем авторская телега уверенно тройке силь...                соцсети   \n",
       "6  мои ученики ко возвращаются мои волшебные пред...                реклама   \n",
       "7  ютюб канале olympics дни идут прямые трансляци...         спорт, соцсети   \n",
       "8  смотреть раздевалка №12 сергей орлов александр...                  спорт   \n",
       "9  сегодня день рождения матвея кисляка выпуск мо...                  спорт   \n",
       "\n",
       "                     class  \n",
       "0  [реклама, личная жизнь]  \n",
       "1                [соцсети]  \n",
       "2                [соцсети]  \n",
       "3                [соцсети]  \n",
       "4           [личная жизнь]  \n",
       "5                [соцсети]  \n",
       "6                [реклама]  \n",
       "7         [спорт, соцсети]  \n",
       "8                  [спорт]  \n",
       "9                  [спорт]  "
      ]
     },
     "execution_count": 57,
     "metadata": {},
     "output_type": "execute_result"
    }
   ],
   "source": [
    "import ast\n",
    "\n",
    "res_df['class'] = res_df['class'].apply(lambda x: [] if ast.literal_eval(str(x))[0] == 'nan' else x)\n",
    "res_df.head(10)"
   ]
  },
  {
   "cell_type": "code",
   "execution_count": 58,
   "id": "0ea8aab8",
   "metadata": {},
   "outputs": [],
   "source": [
    "res_df = res_df.drop(columns=['theme'])"
   ]
  },
  {
   "cell_type": "code",
   "execution_count": 59,
   "id": "25ae823f",
   "metadata": {},
   "outputs": [],
   "source": [
    "res_df.to_csv('../data/processed/cleared_new.csv')"
   ]
  },
  {
   "cell_type": "code",
   "execution_count": 65,
   "id": "ed904a9b",
   "metadata": {},
   "outputs": [
    {
     "data": {
      "text/html": [
       "<div>\n",
       "<style scoped>\n",
       "    .dataframe tbody tr th:only-of-type {\n",
       "        vertical-align: middle;\n",
       "    }\n",
       "\n",
       "    .dataframe tbody tr th {\n",
       "        vertical-align: top;\n",
       "    }\n",
       "\n",
       "    .dataframe thead th {\n",
       "        text-align: right;\n",
       "    }\n",
       "</style>\n",
       "<table border=\"1\" class=\"dataframe\">\n",
       "  <thead>\n",
       "    <tr style=\"text-align: right;\">\n",
       "      <th></th>\n",
       "      <th>text</th>\n",
       "      <th>class</th>\n",
       "    </tr>\n",
       "  </thead>\n",
       "  <tbody>\n",
       "    <tr>\n",
       "      <th>0</th>\n",
       "      <td>твой лучший секс спрятан делюсь каналом диплом...</td>\n",
       "      <td>[реклама, личная жизнь]</td>\n",
       "    </tr>\n",
       "    <tr>\n",
       "      <th>7</th>\n",
       "      <td>ютюб канале olympics дни идут прямые трансляци...</td>\n",
       "      <td>[спорт, соцсети]</td>\n",
       "    </tr>\n",
       "    <tr>\n",
       "      <th>20</th>\n",
       "      <td>дней лечу париж олимпийские игры буду постить ...</td>\n",
       "      <td>[спорт, личная жизнь]</td>\n",
       "    </tr>\n",
       "    <tr>\n",
       "      <th>22</th>\n",
       "      <td>срочно нужен кофе</td>\n",
       "      <td>[]</td>\n",
       "    </tr>\n",
       "    <tr>\n",
       "      <th>30</th>\n",
       "      <td>сходил гости пацанам поговорили деньги🤑 только...</td>\n",
       "      <td>[спорт, юмор]</td>\n",
       "    </tr>\n",
       "    <tr>\n",
       "      <th>...</th>\n",
       "      <td>...</td>\n",
       "      <td>...</td>\n",
       "    </tr>\n",
       "    <tr>\n",
       "      <th>334</th>\n",
       "      <td>первый выпуск токсиков готовы старались успеть...</td>\n",
       "      <td>[юмор, реклама]</td>\n",
       "    </tr>\n",
       "    <tr>\n",
       "      <th>337</th>\n",
       "      <td>глушенков прибавил всем прибавил</td>\n",
       "      <td>[юмор, спорт]</td>\n",
       "    </tr>\n",
       "    <tr>\n",
       "      <th>340</th>\n",
       "      <td>всем привет сегодня ждет новый выпуск рецепт с...</td>\n",
       "      <td>[]</td>\n",
       "    </tr>\n",
       "    <tr>\n",
       "      <th>346</th>\n",
       "      <td>человек умеет задавать интересные вопросы свои...</td>\n",
       "      <td>[реклама, соцсети]</td>\n",
       "    </tr>\n",
       "    <tr>\n",
       "      <th>347</th>\n",
       "      <td>телегу залетает коллега легенда спортивного те...</td>\n",
       "      <td>[реклама, спорт]</td>\n",
       "    </tr>\n",
       "  </tbody>\n",
       "</table>\n",
       "<p>100 rows × 2 columns</p>\n",
       "</div>"
      ],
      "text/plain": [
       "                                                  text  \\\n",
       "0    твой лучший секс спрятан делюсь каналом диплом...   \n",
       "7    ютюб канале olympics дни идут прямые трансляци...   \n",
       "20   дней лечу париж олимпийские игры буду постить ...   \n",
       "22                                   срочно нужен кофе   \n",
       "30   сходил гости пацанам поговорили деньги🤑 только...   \n",
       "..                                                 ...   \n",
       "334  первый выпуск токсиков готовы старались успеть...   \n",
       "337                   глушенков прибавил всем прибавил   \n",
       "340  всем привет сегодня ждет новый выпуск рецепт с...   \n",
       "346  человек умеет задавать интересные вопросы свои...   \n",
       "347  телегу залетает коллега легенда спортивного те...   \n",
       "\n",
       "                       class  \n",
       "0    [реклама, личная жизнь]  \n",
       "7           [спорт, соцсети]  \n",
       "20     [спорт, личная жизнь]  \n",
       "22                        []  \n",
       "30             [спорт, юмор]  \n",
       "..                       ...  \n",
       "334          [юмор, реклама]  \n",
       "337            [юмор, спорт]  \n",
       "340                       []  \n",
       "346       [реклама, соцсети]  \n",
       "347         [реклама, спорт]  \n",
       "\n",
       "[100 rows x 2 columns]"
      ]
     },
     "execution_count": 65,
     "metadata": {},
     "output_type": "execute_result"
    }
   ],
   "source": [
    "res_df[(res_df['class'].apply(lambda x: len(x) != 1) )].head(100)"
   ]
  },
  {
   "cell_type": "code",
   "execution_count": 60,
   "id": "60ec924e",
   "metadata": {},
   "outputs": [
    {
     "name": "stderr",
     "output_type": "stream",
     "text": [
      "C:\\Users\\dimac\\AppData\\Local\\Temp\\ipykernel_40500\\340128769.py:2: SettingWithCopyWarning: \n",
      "A value is trying to be set on a copy of a slice from a DataFrame.\n",
      "Try using .loc[row_indexer,col_indexer] = value instead\n",
      "\n",
      "See the caveats in the documentation: https://pandas.pydata.org/pandas-docs/stable/user_guide/indexing.html#returning-a-view-versus-a-copy\n",
      "  df_one['class'] = df_one['class'].apply(lambda x: x[0])\n"
     ]
    },
    {
     "data": {
      "text/plain": [
       "class\n",
       "спорт           2632\n",
       "юмор            1690\n",
       "реклама         1492\n",
       "личная жизнь     903\n",
       "соцсети          849\n",
       "политика         484\n",
       "Name: count, dtype: int64"
      ]
     },
     "execution_count": 60,
     "metadata": {},
     "output_type": "execute_result"
    }
   ],
   "source": [
    "df_one = res_df[res_df['class'].apply(lambda x: len(x) == 1)]\n",
    "df_one['class'] = df_one['class'].apply(lambda x: x[0])\n",
    "df_one['class'].value_counts()"
   ]
  },
  {
   "cell_type": "code",
   "execution_count": 66,
   "id": "3b0245ff",
   "metadata": {},
   "outputs": [],
   "source": [
    "res_df.to_csv('../data/processed/cleared_one_class.csv')"
   ]
  }
 ],
 "metadata": {
  "kernelspec": {
   "display_name": "venv",
   "language": "python",
   "name": "python3"
  },
  "language_info": {
   "codemirror_mode": {
    "name": "ipython",
    "version": 3
   },
   "file_extension": ".py",
   "mimetype": "text/x-python",
   "name": "python",
   "nbconvert_exporter": "python",
   "pygments_lexer": "ipython3",
   "version": "3.10.4"
  }
 },
 "nbformat": 4,
 "nbformat_minor": 5
}
