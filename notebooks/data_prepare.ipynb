{
 "cells": [
  {
   "cell_type": "code",
   "execution_count": null,
   "id": "dcb8a175",
   "metadata": {},
   "outputs": [],
   "source": [
    "import pandas as pd\n",
    "import ast"
   ]
  },
  {
   "cell_type": "code",
   "execution_count": null,
   "id": "26b2c938",
   "metadata": {},
   "outputs": [],
   "source": [
    "df = pd.read_excel('../data/processed/deepseek.xlsx')\n",
    "df.head()"
   ]
  },
  {
   "cell_type": "code",
   "execution_count": null,
   "id": "7b69d4f3",
   "metadata": {},
   "outputs": [],
   "source": [
    "df.describe()"
   ]
  },
  {
   "cell_type": "code",
   "execution_count": null,
   "id": "ce77b5bb",
   "metadata": {},
   "outputs": [],
   "source": [
    "df['темы'].describe()"
   ]
  },
  {
   "cell_type": "code",
   "execution_count": null,
   "id": "36a93de5",
   "metadata": {},
   "outputs": [],
   "source": [
    "df['темы'] = df['темы'].apply(lambda s: [item.strip() for item in f'{s}'.split(\",\")])\n",
    "df['темы'].explode().value_counts()"
   ]
  },
  {
   "cell_type": "code",
   "execution_count": null,
   "id": "90a375f9",
   "metadata": {},
   "outputs": [],
   "source": [
    "target_value = 'психология'\n",
    "filtered_df = df[df['темы'].apply(lambda x: target_value in x)]\n",
    "filtered_df"
   ]
  },
  {
   "cell_type": "code",
   "execution_count": null,
   "id": "358c0b2d",
   "metadata": {},
   "outputs": [],
   "source": [
    "print(filtered_df['doc_text'].values[0])\n",
    "print(filtered_df['image2text'].values[0])\n",
    "print(filtered_df['speech2text'].values[0])"
   ]
  },
  {
   "cell_type": "code",
   "execution_count": null,
   "id": "225ee0eb",
   "metadata": {},
   "outputs": [],
   "source": [
    "target_value = 'nan'\n",
    "filtered_df = df[df['темы'].apply(lambda x: target_value in x)]\n",
    "display(filtered_df.head(10))"
   ]
  },
  {
   "cell_type": "code",
   "execution_count": null,
   "id": "320cac34",
   "metadata": {},
   "outputs": [],
   "source": [
    "data_index=9\n",
    "print(filtered_df['doc_text'].values[data_index])\n",
    "print(filtered_df['image2text'].values[data_index])\n",
    "print(filtered_df['speech2text'].values[data_index])"
   ]
  },
  {
   "cell_type": "code",
   "execution_count": null,
   "id": "6e87aed4",
   "metadata": {},
   "outputs": [],
   "source": [
    "display(df.loc[0]['doc_text'])"
   ]
  },
  {
   "cell_type": "code",
   "execution_count": null,
   "id": "55b6e156",
   "metadata": {},
   "outputs": [],
   "source": [
    "def categorize_row(row):\n",
    "    \n",
    "    categories = row['темы']\n",
    "\n",
    "    if 'nan' in categories and len(categories) > 1:\n",
    "        categories = list(filter(lambda x: x != 'nan', categories))\n",
    "\n",
    "    if 'психология' in categories:\n",
    "        categories = list(filter(lambda x: x != 'психология', categories))\n",
    "\n",
    "    if 'nan' in categories or len(categories) == 0:\n",
    "        \n",
    "        text = ' '.join([str(row['doc_text']),str(row['image2text']),str(row['speech2text'])]).lower()  # Приводим текст к нижнему регистру\n",
    "        \n",
    "        categories = []\n",
    "        \n",
    "        if any(word in text for word in ['спорт', 'футбол', 'хоккей']):\n",
    "            categories.append('спорт')\n",
    "        if any(word in text for word in ['шутк', 'юмор', 'смешн', 'стендап']):\n",
    "            categories.append('юмор')\n",
    "        if any(word in text for word in ['реклама', 'продукт', 'купить', 'подписаться', 'подписывайтесь']):\n",
    "            categories.append('реклама')\n",
    "        if any(word in text for word in ['соцсет', 'telegram', 'vk', 'youtube', 'instagram', 'youtu.be', 't.me']):\n",
    "            categories.append('соцсети')\n",
    "        if any(word in text for word in ['политик', 'выборы', 'президент', 'политич']):\n",
    "            categories.append('политика')\n",
    "        if any(word in text for word in ['личная жизнь', 'отношения', 'дружба', 'любов', 'любов']):\n",
    "            categories.append('личная жизнь')\n",
    "        \n",
    "        if not categories:\n",
    "            categories.append('nan')\n",
    "        \n",
    "        return categories\n",
    "    else:\n",
    "        return categories\n",
    "\n",
    "# Применяем функцию ко всем строкам\n",
    "df['темы'] = df.apply(categorize_row, axis=1)\n",
    "#target_value = 'nan'\n",
    "#filtered_df = filtered_df[df['темы'].apply(lambda x: target_value in x)]\n",
    "#display(filtered_df.head(10))\n",
    "\n",
    "df['темы'].explode().value_counts()"
   ]
  },
  {
   "cell_type": "code",
   "execution_count": null,
   "id": "30af61f4",
   "metadata": {},
   "outputs": [],
   "source": [
    "target_value = 'nan'\n",
    "filtered_df = df[df['темы'].apply(lambda x: target_value in x)]\n",
    "display(filtered_df.head(50))"
   ]
  },
  {
   "cell_type": "code",
   "execution_count": null,
   "id": "16ccf8a3",
   "metadata": {},
   "outputs": [],
   "source": [
    "data_index=49\n",
    "print(filtered_df['doc_text'].values[data_index])\n",
    "print(filtered_df['image2text'].values[data_index])\n",
    "print(filtered_df['speech2text'].values[data_index])"
   ]
  },
  {
   "cell_type": "code",
   "execution_count": null,
   "id": "0c35d9c7",
   "metadata": {},
   "outputs": [],
   "source": [
    "# Сохраняем результат в CSV\n",
    "df.to_csv('../data/processed/cleared.csv', index=False, encoding='utf-8')"
   ]
  }
 ],
 "metadata": {
  "kernelspec": {
   "display_name": ".venv",
   "language": "python",
   "name": "python3"
  },
  "language_info": {
   "codemirror_mode": {
    "name": "ipython",
    "version": 3
   },
   "file_extension": ".py",
   "mimetype": "text/x-python",
   "name": "python",
   "nbconvert_exporter": "python",
   "pygments_lexer": "ipython3",
   "version": "3.10.4"
  }
 },
 "nbformat": 4,
 "nbformat_minor": 5
}
