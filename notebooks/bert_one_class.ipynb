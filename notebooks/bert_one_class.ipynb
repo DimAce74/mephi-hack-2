{
 "cells": [
  {
   "cell_type": "code",
   "execution_count": 1,
   "id": "8a63b381",
   "metadata": {},
   "outputs": [
    {
     "name": "stderr",
     "output_type": "stream",
     "text": [
      "2025-05-02 18:23:22.051194: E external/local_xla/xla/stream_executor/cuda/cuda_fft.cc:477] Unable to register cuFFT factory: Attempting to register factory for plugin cuFFT when one has already been registered\n",
      "WARNING: All log messages before absl::InitializeLog() is called are written to STDERR\n",
      "E0000 00:00:1746210202.074110    3927 cuda_dnn.cc:8310] Unable to register cuDNN factory: Attempting to register factory for plugin cuDNN when one has already been registered\n",
      "E0000 00:00:1746210202.081467    3927 cuda_blas.cc:1418] Unable to register cuBLAS factory: Attempting to register factory for plugin cuBLAS when one has already been registered\n"
     ]
    }
   ],
   "source": [
    "from transformers import BertTokenizer, BertForSequenceClassification, Trainer, TrainingArguments\n",
    "from datasets import Dataset, DatasetDict, load_dataset\n",
    "import numpy as np\n",
    "from sklearn.metrics import accuracy_score\n",
    "from sklearn.model_selection import train_test_split\n",
    "import pandas as pd\n",
    "from sklearn.preprocessing import LabelEncoder\n",
    "import ast\n",
    "import torch\n",
    "from torch.utils.data import TensorDataset, DataLoader, RandomSampler\n"
   ]
  },
  {
   "cell_type": "code",
   "execution_count": 2,
   "id": "3934c9a9",
   "metadata": {},
   "outputs": [
    {
     "name": "stdout",
     "output_type": "stream",
     "text": [
      "<class 'pandas.core.frame.DataFrame'>\n",
      "RangeIndex: 4191 entries, 0 to 4190\n",
      "Data columns (total 2 columns):\n",
      " #   Column  Non-Null Count  Dtype \n",
      "---  ------  --------------  ----- \n",
      " 0   text    4191 non-null   object\n",
      " 1   class   4191 non-null   object\n",
      "dtypes: object(2)\n",
      "memory usage: 65.6+ KB\n"
     ]
    }
   ],
   "source": [
    "df = pd.read_csv('/kaggle/input/cleared-one-class/cleared_one_class.csv')\n",
    "df.info()"
   ]
  },
  {
   "cell_type": "code",
   "execution_count": 3,
   "id": "3627500d",
   "metadata": {},
   "outputs": [
    {
     "data": {
      "text/html": [
       "<div>\n",
       "<style scoped>\n",
       "    .dataframe tbody tr th:only-of-type {\n",
       "        vertical-align: middle;\n",
       "    }\n",
       "\n",
       "    .dataframe tbody tr th {\n",
       "        vertical-align: top;\n",
       "    }\n",
       "\n",
       "    .dataframe thead th {\n",
       "        text-align: right;\n",
       "    }\n",
       "</style>\n",
       "<table border=\"1\" class=\"dataframe\">\n",
       "  <thead>\n",
       "    <tr style=\"text-align: right;\">\n",
       "      <th></th>\n",
       "      <th>text</th>\n",
       "      <th>class</th>\n",
       "    </tr>\n",
       "  </thead>\n",
       "  <tbody>\n",
       "    <tr>\n",
       "      <th>0</th>\n",
       "      <td>⭐️  кнопка: ⭐️start⭐️(https://t.me/major/start...</td>\n",
       "      <td>соцсети</td>\n",
       "    </tr>\n",
       "    <tr>\n",
       "      <th>1</th>\n",
       "      <td>а продолжение где? правильно. в моем сообществ...</td>\n",
       "      <td>соцсети</td>\n",
       "    </tr>\n",
       "    <tr>\n",
       "      <th>2</th>\n",
       "      <td>тем временем моя авторская телега уверенно в т...</td>\n",
       "      <td>соцсети</td>\n",
       "    </tr>\n",
       "    <tr>\n",
       "      <th>3</th>\n",
       "      <td>у меня есть двоюродная сестра, у нее есть сын ...</td>\n",
       "      <td>личная жизнь</td>\n",
       "    </tr>\n",
       "    <tr>\n",
       "      <th>4</th>\n",
       "      <td>тем временем моя авторская телега уверенно в т...</td>\n",
       "      <td>соцсети</td>\n",
       "    </tr>\n",
       "  </tbody>\n",
       "</table>\n",
       "</div>"
      ],
      "text/plain": [
       "                                                text         class\n",
       "0  ⭐️  кнопка: ⭐️start⭐️(https://t.me/major/start...       соцсети\n",
       "1  а продолжение где? правильно. в моем сообществ...       соцсети\n",
       "2  тем временем моя авторская телега уверенно в т...       соцсети\n",
       "3  у меня есть двоюродная сестра, у нее есть сын ...  личная жизнь\n",
       "4  тем временем моя авторская телега уверенно в т...       соцсети"
      ]
     },
     "execution_count": 3,
     "metadata": {},
     "output_type": "execute_result"
    }
   ],
   "source": [
    "df.head()"
   ]
  },
  {
   "cell_type": "code",
   "execution_count": 4,
   "id": "395d0901",
   "metadata": {},
   "outputs": [
    {
     "data": {
      "text/html": [
       "<div>\n",
       "<style scoped>\n",
       "    .dataframe tbody tr th:only-of-type {\n",
       "        vertical-align: middle;\n",
       "    }\n",
       "\n",
       "    .dataframe tbody tr th {\n",
       "        vertical-align: top;\n",
       "    }\n",
       "\n",
       "    .dataframe thead th {\n",
       "        text-align: right;\n",
       "    }\n",
       "</style>\n",
       "<table border=\"1\" class=\"dataframe\">\n",
       "  <thead>\n",
       "    <tr style=\"text-align: right;\">\n",
       "      <th></th>\n",
       "      <th>text</th>\n",
       "      <th>class</th>\n",
       "      <th>labels</th>\n",
       "    </tr>\n",
       "  </thead>\n",
       "  <tbody>\n",
       "    <tr>\n",
       "      <th>0</th>\n",
       "      <td>⭐️  кнопка: ⭐️start⭐️(https://t.me/major/start...</td>\n",
       "      <td>соцсети</td>\n",
       "      <td>3</td>\n",
       "    </tr>\n",
       "    <tr>\n",
       "      <th>1</th>\n",
       "      <td>а продолжение где? правильно. в моем сообществ...</td>\n",
       "      <td>соцсети</td>\n",
       "      <td>3</td>\n",
       "    </tr>\n",
       "    <tr>\n",
       "      <th>2</th>\n",
       "      <td>тем временем моя авторская телега уверенно в т...</td>\n",
       "      <td>соцсети</td>\n",
       "      <td>3</td>\n",
       "    </tr>\n",
       "    <tr>\n",
       "      <th>3</th>\n",
       "      <td>у меня есть двоюродная сестра, у нее есть сын ...</td>\n",
       "      <td>личная жизнь</td>\n",
       "      <td>0</td>\n",
       "    </tr>\n",
       "    <tr>\n",
       "      <th>4</th>\n",
       "      <td>тем временем моя авторская телега уверенно в т...</td>\n",
       "      <td>соцсети</td>\n",
       "      <td>3</td>\n",
       "    </tr>\n",
       "  </tbody>\n",
       "</table>\n",
       "</div>"
      ],
      "text/plain": [
       "                                                text         class  labels\n",
       "0  ⭐️  кнопка: ⭐️start⭐️(https://t.me/major/start...       соцсети       3\n",
       "1  а продолжение где? правильно. в моем сообществ...       соцсети       3\n",
       "2  тем временем моя авторская телега уверенно в т...       соцсети       3\n",
       "3  у меня есть двоюродная сестра, у нее есть сын ...  личная жизнь       0\n",
       "4  тем временем моя авторская телега уверенно в т...       соцсети       3"
      ]
     },
     "execution_count": 4,
     "metadata": {},
     "output_type": "execute_result"
    }
   ],
   "source": [
    "# Инициализируем энкодер\n",
    "encoder = LabelEncoder()\n",
    "\n",
    "labels =encoder.fit_transform(df['class'])\n",
    "df['labels'] = labels\n",
    "df.head()"
   ]
  },
  {
   "cell_type": "code",
   "execution_count": 5,
   "id": "0c15da19",
   "metadata": {},
   "outputs": [
    {
     "data": {
      "text/plain": [
       "{'личная жизнь': 0,\n",
       " 'политика': 1,\n",
       " 'реклама': 2,\n",
       " 'соцсети': 3,\n",
       " 'спорт': 4,\n",
       " 'юмор': 5}"
      ]
     },
     "execution_count": 5,
     "metadata": {},
     "output_type": "execute_result"
    }
   ],
   "source": [
    "class_mapping = {label: idx for idx, label in enumerate(encoder.classes_)}\n",
    "class_mapping"
   ]
  },
  {
   "cell_type": "code",
   "execution_count": 6,
   "id": "dbeb86cb",
   "metadata": {},
   "outputs": [],
   "source": [
    "train_df, val_df = train_test_split(df, stratify=df['labels'], random_state=42)"
   ]
  },
  {
   "cell_type": "code",
   "execution_count": 7,
   "id": "8d8923bd",
   "metadata": {},
   "outputs": [],
   "source": [
    "train_dataset = Dataset.from_pandas(train_df)\n",
    "val_dataset = Dataset.from_pandas(val_df)\n",
    "\n",
    "dataset = DatasetDict({\n",
    "    'train' : train_dataset,\n",
    "    'val': val_dataset\n",
    "})"
   ]
  },
  {
   "cell_type": "code",
   "execution_count": 8,
   "id": "13e0d7fd",
   "metadata": {},
   "outputs": [
    {
     "data": {
      "application/vnd.jupyter.widget-view+json": {
       "model_id": "465b6ec976c94591a8c363ba079a3849",
       "version_major": 2,
       "version_minor": 0
      },
      "text/plain": [
       "Map:   0%|          | 0/1048 [00:00<?, ? examples/s]"
      ]
     },
     "metadata": {},
     "output_type": "display_data"
    }
   ],
   "source": [
    "# Токенизация\n",
    "tokenizer = BertTokenizer.from_pretrained(\"bert-base-multilingual-cased\")\n",
    "\n",
    "def tokenize_function(examples):\n",
    "    return tokenizer(examples[\"text\"], padding=\"max_length\", truncation=True, max_length=512)\n",
    "\n",
    "tokenized_datasets = dataset.map(tokenize_function, batched=True)"
   ]
  },
  {
   "cell_type": "code",
   "execution_count": 9,
   "id": "2ae4ae1d",
   "metadata": {},
   "outputs": [
    {
     "data": {
      "text/plain": [
       "DatasetDict({\n",
       "    train: Dataset({\n",
       "        features: ['text', 'class', 'labels', '__index_level_0__', 'input_ids', 'token_type_ids', 'attention_mask'],\n",
       "        num_rows: 3143\n",
       "    })\n",
       "    val: Dataset({\n",
       "        features: ['text', 'class', 'labels', '__index_level_0__', 'input_ids', 'token_type_ids', 'attention_mask'],\n",
       "        num_rows: 1048\n",
       "    })\n",
       "})"
      ]
     },
     "execution_count": 9,
     "metadata": {},
     "output_type": "execute_result"
    }
   ],
   "source": [
    "tokenized_datasets.set_format('torch')\n",
    "tokenized_datasets"
   ]
  },
  {
   "cell_type": "code",
   "execution_count": 10,
   "id": "ad4027bd",
   "metadata": {},
   "outputs": [
    {
     "name": "stderr",
     "output_type": "stream",
     "text": [
      "Some weights of BertForSequenceClassification were not initialized from the model checkpoint at bert-base-multilingual-cased and are newly initialized: ['classifier.bias', 'classifier.weight']\n",
      "You should probably TRAIN this model on a down-stream task to be able to use it for predictions and inference.\n"
     ]
    }
   ],
   "source": [
    "# 5. Инициализация модели (остается без изменений)\n",
    "device = torch.device(\"cuda\" if torch.cuda.is_available() else \"cpu\")\n",
    "model = BertForSequenceClassification.from_pretrained(\n",
    "    'bert-base-multilingual-cased',\n",
    "    num_labels=6\n",
    ").to(device)"
   ]
  },
  {
   "cell_type": "code",
   "execution_count": 11,
   "id": "53875223",
   "metadata": {},
   "outputs": [
    {
     "name": "stderr",
     "output_type": "stream",
     "text": [
      "Some weights of BertForSequenceClassification were not initialized from the model checkpoint at bert-base-multilingual-cased and are newly initialized: ['classifier.bias', 'classifier.weight']\n",
      "You should probably TRAIN this model on a down-stream task to be able to use it for predictions and inference.\n",
      "Using auto half precision backend\n"
     ]
    }
   ],
   "source": [
    "from sklearn.metrics import f1_score, accuracy_score, precision_score, recall_score, hamming_loss\n",
    "import numpy as np\n",
    "\n",
    "\n",
    "# Создание модели\n",
    "model = BertForSequenceClassification.from_pretrained(\n",
    "    \"bert-base-multilingual-cased\", \n",
    "    num_labels=len(class_mapping)\n",
    "    )\n",
    "\n",
    "\n",
    "def compute_metrics(eval_pred):\n",
    "    predictions, labels = eval_pred\n",
    "    predictions = np.argmax(predictions, axis=1)  # Для multi-class\n",
    "    \n",
    "    # Для multi-label (раскомментировать):\n",
    "    # predictions = (predictions > 0).astype(int)  # Логиты уже через sigmoid\n",
    "    \n",
    "    return {\n",
    "        'f1 macro': f1_score(labels, predictions, average='macro'),\n",
    "        'f1 micro': f1_score(labels, predictions, average='micro'),\n",
    "        'f1 weighted': f1_score(labels, predictions, average='weighted'),\n",
    "        'accuracy': accuracy_score(labels, predictions),\n",
    "        'precision': precision_score(labels, predictions, average='macro'),\n",
    "        'recall': recall_score(labels, predictions, average='macro'),\n",
    "        'Loss': hamming_loss(labels, predictions)\n",
    "    }\n",
    "\n",
    "training_args = TrainingArguments(\n",
    "    output_dir=\"/kaggle/working/results\",\n",
    "    per_device_train_batch_size=16,\n",
    "    per_device_eval_batch_size=8,\n",
    "    num_train_epochs=20,\n",
    "    eval_strategy=\"steps\",\n",
    "    log_level='info',\n",
    "    do_train=True,  # Ключевое изменение!\n",
    "    do_eval=True,\n",
    "    logging_steps=500,\n",
    "    save_steps=500,\n",
    "    eval_steps=500,\n",
    "    fp16=True,  # Если GPU поддерживает\n",
    "    report_to=[\"tensorboard\"]\n",
    ")\n",
    "\n",
    "trainer = Trainer(\n",
    "    model=model,\n",
    "    args=training_args,\n",
    "    train_dataset=tokenized_datasets[\"train\"],\n",
    "    eval_dataset=tokenized_datasets[\"val\"],\n",
    "    compute_metrics=compute_metrics,\n",
    ")"
   ]
  },
  {
   "cell_type": "code",
   "execution_count": 12,
   "id": "5bb8ae22",
   "metadata": {},
   "outputs": [
    {
     "name": "stderr",
     "output_type": "stream",
     "text": [
      "The following columns in the training set don't have a corresponding argument in `BertForSequenceClassification.forward` and have been ignored: class, __index_level_0__, text. If class, __index_level_0__, text are not expected by `BertForSequenceClassification.forward`,  you can safely ignore this message.\n",
      "***** Running training *****\n",
      "  Num examples = 3,143\n",
      "  Num Epochs = 20\n",
      "  Instantaneous batch size per device = 16\n",
      "  Training with DataParallel so batch size has been adjusted to: 32\n",
      "  Total train batch size (w. parallel, distributed & accumulation) = 32\n",
      "  Gradient Accumulation steps = 1\n",
      "  Total optimization steps = 1,980\n",
      "  Number of trainable parameters = 177,858,054\n",
      "/usr/local/lib/python3.11/dist-packages/torch/nn/parallel/_functions.py:71: UserWarning: Was asked to gather along dimension 0, but all input tensors were scalars; will instead unsqueeze and return a vector.\n",
      "  warnings.warn(\n"
     ]
    },
    {
     "data": {
      "text/html": [
       "\n",
       "    <div>\n",
       "      \n",
       "      <progress value='1980' max='1980' style='width:300px; height:20px; vertical-align: middle;'></progress>\n",
       "      [1980/1980 59:24, Epoch 20/20]\n",
       "    </div>\n",
       "    <table border=\"1\" class=\"dataframe\">\n",
       "  <thead>\n",
       " <tr style=\"text-align: left;\">\n",
       "      <th>Step</th>\n",
       "      <th>Training Loss</th>\n",
       "      <th>Validation Loss</th>\n",
       "      <th>F1 macro</th>\n",
       "      <th>F1 micro</th>\n",
       "      <th>F1 weighted</th>\n",
       "      <th>Accuracy</th>\n",
       "      <th>Precision</th>\n",
       "      <th>Recall</th>\n",
       "    </tr>\n",
       "  </thead>\n",
       "  <tbody>\n",
       "    <tr>\n",
       "      <td>500</td>\n",
       "      <td>0.653700</td>\n",
       "      <td>0.242366</td>\n",
       "      <td>0.732450</td>\n",
       "      <td>0.757634</td>\n",
       "      <td>0.755641</td>\n",
       "      <td>0.757634</td>\n",
       "      <td>0.744364</td>\n",
       "      <td>0.724059</td>\n",
       "    </tr>\n",
       "    <tr>\n",
       "      <td>1000</td>\n",
       "      <td>0.112400</td>\n",
       "      <td>0.257634</td>\n",
       "      <td>0.707916</td>\n",
       "      <td>0.742366</td>\n",
       "      <td>0.739817</td>\n",
       "      <td>0.742366</td>\n",
       "      <td>0.710257</td>\n",
       "      <td>0.715589</td>\n",
       "    </tr>\n",
       "    <tr>\n",
       "      <td>1500</td>\n",
       "      <td>0.102300</td>\n",
       "      <td>0.253817</td>\n",
       "      <td>0.724957</td>\n",
       "      <td>0.746183</td>\n",
       "      <td>0.747875</td>\n",
       "      <td>0.746183</td>\n",
       "      <td>0.721187</td>\n",
       "      <td>0.734840</td>\n",
       "    </tr>\n",
       "  </tbody>\n",
       "</table><p>"
      ],
      "text/plain": [
       "<IPython.core.display.HTML object>"
      ]
     },
     "metadata": {},
     "output_type": "display_data"
    },
    {
     "name": "stderr",
     "output_type": "stream",
     "text": [
      "The following columns in the evaluation set don't have a corresponding argument in `BertForSequenceClassification.forward` and have been ignored: class, __index_level_0__, text. If class, __index_level_0__, text are not expected by `BertForSequenceClassification.forward`,  you can safely ignore this message.\n",
      "\n",
      "***** Running Evaluation *****\n",
      "  Num examples = 1048\n",
      "  Batch size = 16\n",
      "Saving model checkpoint to /kaggle/working/results/checkpoint-500\n",
      "Configuration saved in /kaggle/working/results/checkpoint-500/config.json\n",
      "Model weights saved in /kaggle/working/results/checkpoint-500/model.safetensors\n",
      "/usr/local/lib/python3.11/dist-packages/torch/nn/parallel/_functions.py:71: UserWarning: Was asked to gather along dimension 0, but all input tensors were scalars; will instead unsqueeze and return a vector.\n",
      "  warnings.warn(\n",
      "The following columns in the evaluation set don't have a corresponding argument in `BertForSequenceClassification.forward` and have been ignored: class, __index_level_0__, text. If class, __index_level_0__, text are not expected by `BertForSequenceClassification.forward`,  you can safely ignore this message.\n",
      "\n",
      "***** Running Evaluation *****\n",
      "  Num examples = 1048\n",
      "  Batch size = 16\n",
      "Saving model checkpoint to /kaggle/working/results/checkpoint-1000\n",
      "Configuration saved in /kaggle/working/results/checkpoint-1000/config.json\n",
      "Model weights saved in /kaggle/working/results/checkpoint-1000/model.safetensors\n",
      "/usr/local/lib/python3.11/dist-packages/torch/nn/parallel/_functions.py:71: UserWarning: Was asked to gather along dimension 0, but all input tensors were scalars; will instead unsqueeze and return a vector.\n",
      "  warnings.warn(\n",
      "The following columns in the evaluation set don't have a corresponding argument in `BertForSequenceClassification.forward` and have been ignored: class, __index_level_0__, text. If class, __index_level_0__, text are not expected by `BertForSequenceClassification.forward`,  you can safely ignore this message.\n",
      "\n",
      "***** Running Evaluation *****\n",
      "  Num examples = 1048\n",
      "  Batch size = 16\n",
      "Saving model checkpoint to /kaggle/working/results/checkpoint-1500\n",
      "Configuration saved in /kaggle/working/results/checkpoint-1500/config.json\n",
      "Model weights saved in /kaggle/working/results/checkpoint-1500/model.safetensors\n",
      "/usr/local/lib/python3.11/dist-packages/torch/nn/parallel/_functions.py:71: UserWarning: Was asked to gather along dimension 0, but all input tensors were scalars; will instead unsqueeze and return a vector.\n",
      "  warnings.warn(\n",
      "Saving model checkpoint to /kaggle/working/results/checkpoint-1980\n",
      "Configuration saved in /kaggle/working/results/checkpoint-1980/config.json\n",
      "Model weights saved in /kaggle/working/results/checkpoint-1980/model.safetensors\n",
      "\n",
      "\n",
      "Training completed. Do not forget to share your model on huggingface.co/models =)\n",
      "\n",
      "\n"
     ]
    },
    {
     "data": {
      "text/plain": [
       "TrainOutput(global_step=1980, training_loss=0.2369513193766276, metrics={'train_runtime': 3567.7038, 'train_samples_per_second': 17.619, 'train_steps_per_second': 0.555, 'total_flos': 1.653975493373952e+16, 'train_loss': 0.2369513193766276, 'epoch': 20.0})"
      ]
     },
     "execution_count": 12,
     "metadata": {},
     "output_type": "execute_result"
    }
   ],
   "source": [
    "trainer.train()"
   ]
  },
  {
   "cell_type": "code",
   "execution_count": 13,
   "id": "fa23707b",
   "metadata": {},
   "outputs": [
    {
     "name": "stderr",
     "output_type": "stream",
     "text": [
      "Configuration saved in /kaggle/working/my_bert_one_classifier/config.json\n",
      "Model weights saved in /kaggle/working/my_bert_one_classifier/model.safetensors\n",
      "tokenizer config file saved in /kaggle/working/my_bert_one_classifier/tokenizer_config.json\n",
      "Special tokens file saved in /kaggle/working/my_bert_one_classifier/special_tokens_map.json\n"
     ]
    },
    {
     "data": {
      "text/plain": [
       "('/kaggle/working/my_bert_one_classifier/tokenizer_config.json',\n",
       " '/kaggle/working/my_bert_one_classifier/special_tokens_map.json',\n",
       " '/kaggle/working/my_bert_one_classifier/vocab.txt',\n",
       " '/kaggle/working/my_bert_one_classifier/added_tokens.json')"
      ]
     },
     "execution_count": 13,
     "metadata": {},
     "output_type": "execute_result"
    }
   ],
   "source": [
    "model.save_pretrained(\"/kaggle/working/my_bert_one_classifier\")\n",
    "tokenizer.save_pretrained(\"/kaggle/working/my_bert_one_classifier\")"
   ]
  },
  {
   "cell_type": "code",
   "execution_count": 14,
   "id": "5f60dc95",
   "metadata": {},
   "outputs": [
    {
     "name": "stderr",
     "output_type": "stream",
     "text": [
      "The following columns in the evaluation set don't have a corresponding argument in `BertForSequenceClassification.forward` and have been ignored: class, __index_level_0__, text. If class, __index_level_0__, text are not expected by `BertForSequenceClassification.forward`,  you can safely ignore this message.\n",
      "\n",
      "***** Running Evaluation *****\n",
      "  Num examples = 1048\n",
      "  Batch size = 16\n",
      "/usr/local/lib/python3.11/dist-packages/torch/nn/parallel/_functions.py:71: UserWarning: Was asked to gather along dimension 0, but all input tensors were scalars; will instead unsqueeze and return a vector.\n",
      "  warnings.warn(\n"
     ]
    },
    {
     "data": {
      "text/html": [
       "\n",
       "    <div>\n",
       "      \n",
       "      <progress value='66' max='66' style='width:300px; height:20px; vertical-align: middle;'></progress>\n",
       "      [66/66 00:20]\n",
       "    </div>\n",
       "    "
      ],
      "text/plain": [
       "<IPython.core.display.HTML object>"
      ]
     },
     "metadata": {},
     "output_type": "display_data"
    },
    {
     "name": "stdout",
     "output_type": "stream",
     "text": [
      "{'eval_loss': 3.5223324298858643, 'eval_f1 macro': 0.7393550675551414, 'eval_f1 micro': 0.7624045801526718, 'eval_f1 weighted': 0.7623028247130316, 'eval_accuracy': 0.7624045801526718, 'eval_precision': 0.7388639613534673, 'eval_recall': 0.7403975919996483, 'eval_Loss': 0.23759541984732824, 'eval_runtime': 20.5196, 'eval_samples_per_second': 51.073, 'eval_steps_per_second': 3.216, 'epoch': 20.0}\n"
     ]
    }
   ],
   "source": [
    "print(trainer.evaluate()) "
   ]
  },
  {
   "cell_type": "code",
   "execution_count": 23,
   "id": "58bff270",
   "metadata": {},
   "outputs": [],
   "source": [
    "new_texts = [\"Анкара Месси забил гол в ворота франции\", \"ай Литвин красава ай чисто на кондциях залетел ай да лев\", \"Америка расширила список санкция против России\", \"купите макбук за 140к и получите наушники в подарок\"]\n"
   ]
  },
  {
   "cell_type": "code",
   "execution_count": 28,
   "id": "3aa8b3e2",
   "metadata": {},
   "outputs": [],
   "source": [
    "def predict(text):\n",
    "    # Токенизация текста\n",
    "    inputs = tokenizer(\n",
    "        text,\n",
    "        padding=True,\n",
    "        truncation=True,\n",
    "        max_length=512,\n",
    "        return_tensors=\"pt\"\n",
    "    ).to(device)\n",
    "    \n",
    "    # Предсказание\n",
    "    with torch.no_grad():\n",
    "        outputs = model(**inputs)\n",
    "    \n",
    "    # Получение метки класса\n",
    "    probs = torch.softmax(outputs.logits, dim=1)\n",
    "    pred_class = torch.argmax(probs).item()\n",
    "    \n",
    "    id2label = {\n",
    "        0: \"личная жизнь\",\n",
    "        1: \"политика\", \n",
    "        2: \"реклама\",\n",
    "        3: \"соцсети\",\n",
    "        4: \"спорт\",\n",
    "        5: \"юмор\"\n",
    "    }\n",
    "\n",
    "    for class_id, prob in enumerate(probs.cpu().numpy()[0]):\n",
    "        print(f\"{id2label[class_id]}: {prob:.4f}\")  # 4 знака после запятой"
   ]
  },
  {
   "cell_type": "code",
   "execution_count": 22,
   "id": "e1d0df85",
   "metadata": {},
   "outputs": [
    {
     "data": {
      "text/plain": [
       "{'личная жизнь': 0,\n",
       " 'политика': 1,\n",
       " 'реклама': 2,\n",
       " 'соцсети': 3,\n",
       " 'спорт': 4,\n",
       " 'юмор': 5}"
      ]
     },
     "execution_count": 22,
     "metadata": {},
     "output_type": "execute_result"
    }
   ],
   "source": [
    "class_mapping"
   ]
  },
  {
   "cell_type": "code",
   "execution_count": 30,
   "id": "778e9d12",
   "metadata": {},
   "outputs": [
    {
     "name": "stdout",
     "output_type": "stream",
     "text": [
      "личная жизнь: 0.0000\n",
      "политика: 0.0000\n",
      "реклама: 0.0000\n",
      "соцсети: 0.0000\n",
      "спорт: 1.0000\n",
      "юмор: 0.0000\n"
     ]
    }
   ],
   "source": [
    "predict('Спортивная энергия в каждом глотке — заряжайся и побеждай с новым напитком для чемпионов!')"
   ]
  },
  {
   "cell_type": "code",
   "execution_count": 31,
   "id": "4d785251",
   "metadata": {},
   "outputs": [
    {
     "name": "stdout",
     "output_type": "stream",
     "text": [
      "личная жизнь: 0.0000\n",
      "политика: 0.0000\n",
      "реклама: 0.0000\n",
      "соцсети: 0.0342\n",
      "спорт: 0.9656\n",
      "юмор: 0.0003\n"
     ]
    }
   ],
   "source": [
    "predict('Достигай рекордов с кроссовками, которые выбирают профи!')"
   ]
  },
  {
   "cell_type": "code",
   "execution_count": 32,
   "id": "87928a00",
   "metadata": {},
   "outputs": [
    {
     "name": "stdout",
     "output_type": "stream",
     "text": [
      "личная жизнь: 0.0000\n",
      "политика: 0.0000\n",
      "реклама: 0.0000\n",
      "соцсети: 0.0000\n",
      "спорт: 1.0000\n",
      "юмор: 0.0000\n"
     ]
    }
   ],
   "source": [
    "predict('Подпитывай чемпионский дух — белковый батончик для твоих тренировок!')"
   ]
  }
 ],
 "metadata": {
  "kernelspec": {
   "display_name": "Python 3 (ipykernel)",
   "language": "python",
   "name": "python3"
  },
  "language_info": {
   "codemirror_mode": {
    "name": "ipython",
    "version": 3
   },
   "file_extension": ".py",
   "mimetype": "text/x-python",
   "name": "python",
   "nbconvert_exporter": "python",
   "pygments_lexer": "ipython3",
   "version": "3.11.11"
  }
 },
 "nbformat": 4,
 "nbformat_minor": 5
}
