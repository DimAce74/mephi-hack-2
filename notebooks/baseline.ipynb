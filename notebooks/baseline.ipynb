{
 "cells": [
  {
   "cell_type": "code",
   "execution_count": null,
   "id": "e9147671",
   "metadata": {},
   "outputs": [],
   "source": [
    "import pandas as pd\n",
    "from sklearn.feature_extraction.text import TfidfVectorizer\n"
   ]
  },
  {
   "cell_type": "code",
   "execution_count": null,
   "id": "a5c1fa8b",
   "metadata": {},
   "outputs": [],
   "source": [
    "df = pd.read_csv('../data/processed/cleared.csv')\n",
    "df.info()"
   ]
  },
  {
   "cell_type": "code",
   "execution_count": null,
   "id": "4f08dc99",
   "metadata": {},
   "outputs": [],
   "source": [
    "df.head()"
   ]
  },
  {
   "cell_type": "code",
   "execution_count": null,
   "id": "9ef9e061",
   "metadata": {},
   "outputs": [],
   "source": [
    "def concat_text(row):\n",
    "    \n",
    "    text = str(row['doc_text'])\n",
    "    \n",
    "    if not pd.isna(str(row['image2text'])):\n",
    "        text += str(row['image2text'])\n",
    "\n",
    "    if not pd.isna(str(row['speech2text'])):\n",
    "        text += str(row['speech2text'])\n",
    "\n",
    "    return text.lower()\n",
    "\n",
    "df['text'] = df.apply(concat_text, axis=1)\n",
    "\n",
    "df.head()"
   ]
  },
  {
   "cell_type": "code",
   "execution_count": null,
   "id": "f7190253",
   "metadata": {},
   "outputs": [],
   "source": [
    "df = df.drop(columns=['doc_text', 'image2text', 'speech2text'])"
   ]
  },
  {
   "cell_type": "code",
   "execution_count": null,
   "id": "126c4c47",
   "metadata": {},
   "outputs": [],
   "source": [
    "df. describe()"
   ]
  },
  {
   "cell_type": "code",
   "execution_count": null,
   "id": "49b7fe4f",
   "metadata": {},
   "outputs": [],
   "source": [
    "df['class'] = df['темы']\n",
    "df = df.drop(columns=['темы'])"
   ]
  },
  {
   "cell_type": "code",
   "execution_count": null,
   "id": "31b730ee",
   "metadata": {},
   "outputs": [],
   "source": [
    "df.info()"
   ]
  },
  {
   "cell_type": "code",
   "execution_count": null,
   "id": "9155d779",
   "metadata": {},
   "outputs": [],
   "source": [
    "vectorizer = TfidfVectorizer()\n",
    "X = vectorizer.fit_transform(df)\n",
    "df"
   ]
  }
 ],
 "metadata": {
  "kernelspec": {
   "display_name": ".venv",
   "language": "python",
   "name": "python3"
  },
  "language_info": {
   "codemirror_mode": {
    "name": "ipython",
    "version": 3
   },
   "file_extension": ".py",
   "mimetype": "text/x-python",
   "name": "python",
   "nbconvert_exporter": "python",
   "pygments_lexer": "ipython3",
   "version": "3.10.4"
  }
 },
 "nbformat": 4,
 "nbformat_minor": 5
}
